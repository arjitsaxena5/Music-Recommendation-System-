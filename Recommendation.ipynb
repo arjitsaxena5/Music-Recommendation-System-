{
 "cells": [
  {
   "cell_type": "code",
   "execution_count": 6,
   "id": "0d69a4f3",
   "metadata": {},
   "outputs": [],
   "source": [
    "import pyspark\n",
    "from pyspark.sql import SparkSession\n",
    "from pyspark.sql.types import StructType"
   ]
  },
  {
   "cell_type": "code",
   "execution_count": null,
   "id": "ade15b78",
   "metadata": {},
   "outputs": [],
   "source": [
    "findspark.init(\"/home/ubuntu/software/spark\")"
   ]
  },
  {
   "cell_type": "code",
   "execution_count": 8,
   "id": "12f96faa",
   "metadata": {},
   "outputs": [],
   "source": [
    "spark = SparkSession.builder\\\n",
    "    .master(\"local\").appName(\"music_recommendation_system\").getOrCreate()"
   ]
  },
  {
   "cell_type": "code",
   "execution_count": null,
   "id": "f472be25",
   "metadata": {},
   "outputs": [],
   "source": [
    "final_dataframe = spark.createDataFrame([], StructType([]))"
   ]
  },
  {
   "cell_type": "code",
   "execution_count": null,
   "id": "c8082034",
   "metadata": {},
   "outputs": [],
   "source": [
    "for i in range(1,1000):\n",
    "    data = \"hdfs://54.201.83.165:9000/raw_data/mpd.slice.\" + str(i)\n",
    "    temp_dataframe = spark.read.json(data)\n",
    "    final_dataframe.append(temp_dataframe)"
   ]
  },
  {
   "cell_type": "code",
   "execution_count": null,
   "id": "311fea03",
   "metadata": {},
   "outputs": [],
   "source": [
    "final_dataframe.printSchema()"
   ]
  },
  {
   "cell_type": "code",
   "execution_count": null,
   "id": "6ad4a16e",
   "metadata": {},
   "outputs": [],
   "source": [
    "playlist_df = final_dataframe.select('playlists', explode('playlists')).\\\n",
    "                    select(explode('col.tracks'),'col.name','col.pid',\n",
    "                       'col.num_followers', 'col.num_tracks','col.duration_ms','col.num_artists').\\\n",
    "                        withColumnRenamed('col.num_followers', 'num_followers').\\\n",
    "                        withColumnRenamed('col.num_tracks', 'tracks').\\\n",
    "                        withColumnRenamed('col.duration_ms', 'duration_ms').\\\n",
    "                        withColumnRenamed('col.num_artists', 'num_artists').\\\n",
    "                        withColumnRenamed('col.pid', 'pid').\\\n",
    "                        withColumnRenamed('col.name', 'name').\\\n",
    "                        select('col.*','*').drop('col')"
   ]
  },
  {
   "cell_type": "code",
   "execution_count": null,
   "id": "10a2d368",
   "metadata": {},
   "outputs": [],
   "source": [
    "# checking the non null count for tracks\n",
    "playlist_df.where(playlist_df['playlists'].isNotNull()).select('tracks').distinct().count()"
   ]
  },
  {
   "cell_type": "code",
   "execution_count": null,
   "id": "4fc0484b",
   "metadata": {},
   "outputs": [],
   "source": [
    "# checking the null count for lyrics\n",
    "playlist_df.where(playlist_df['playlists'].isNull()).select('tracks').distinct().count()"
   ]
  },
  {
   "cell_type": "code",
   "execution_count": null,
   "id": "e68da284",
   "metadata": {},
   "outputs": [],
   "source": [
    "split_col_values = split(playlist_df[\"tracks\"], ‘\\t’)\n",
    "df_artist = playlist_df.withColumn(\"artist_id\", split_col_values.getItem(0))\n",
    "df_artist = playlist_df.withColumn(\"artist_name\", split_col_values.getItem(1))\n",
    "df_artist=df_artist.drop(\"tracks\")\n",
    "df_user_artist = playlist_df.withColumn('artist_id', split_col_values.getItem(0))\n",
    "df_user_artist = playlist_df.withColumn('duration_ms', split_col_values.getItem(2))\n",
    "df_user_artist=df.drop('tracks')\n",
    "df_user_artist.show()"
   ]
  },
  {
   "cell_type": "code",
   "execution_count": null,
   "id": "fbb698c4",
   "metadata": {},
   "outputs": [],
   "source": [
    "train_df, test_df = df_user_artist.randomSplit([0.7,0.3],seed=7)"
   ]
  },
  {
   "cell_type": "code",
   "execution_count": null,
   "id": "d786ec9d",
   "metadata": {},
   "outputs": [],
   "source": [
    "als=ALS(maxIter = 10, regParam = 0.02, coldStartStrategy = “drop”,  implicitPrefs = True, userCol=\"artist_name\", itemCol=\"artist_id\", ratingCol=\"duration_ms\")\n",
    "model=als.fit(train_df)\n",
    "predictions=model.trasnform(train_df)"
   ]
  },
  {
   "cell_type": "code",
   "execution_count": null,
   "id": "f266a282",
   "metadata": {},
   "outputs": [],
   "source": [
    "recom = model.recommendForAllUsers(20).show()"
   ]
  },
  {
   "cell_type": "code",
   "execution_count": null,
   "id": "094c3111",
   "metadata": {},
   "outputs": [],
   "source": [
    "from pyspark.ml.evaluation import RegressionEvaluator\n",
    "evaluator=RegressionEvaluator(metricName=\"rmse\", labelCol=\"duration_ms\", predictionCol=\"prediction\")\n",
    "rmse = evaluator.evaluate(predictions)\n",
    "print(rmse)"
   ]
  },
  {
   "cell_type": "code",
   "execution_count": null,
   "id": "b0ec8711",
   "metadata": {},
   "outputs": [],
   "source": [
    "database = '*****'\n",
    "collection = '*****'\n",
    "user_name = '*****'\n",
    "password = '*****'\n",
    "address = '*****.mongodb.net'\n",
    "connection_string = f\"mongodb+srv://{user_name}:{password}@{address}/{database}.{collection}\""
   ]
  },
  {
   "cell_type": "code",
   "execution_count": null,
   "id": "5d90d68e",
   "metadata": {},
   "outputs": [],
   "source": [
    "recom.write.format(\"mongo\").option(\"uri\",connection_string).mode(\"append\").save()"
   ]
  }
 ],
 "metadata": {
  "kernelspec": {
   "display_name": "Python 3 (ipykernel)",
   "language": "python",
   "name": "python3"
  },
  "language_info": {
   "codemirror_mode": {
    "name": "ipython",
    "version": 3
   },
   "file_extension": ".py",
   "mimetype": "text/x-python",
   "name": "python",
   "nbconvert_exporter": "python",
   "pygments_lexer": "ipython3",
   "version": "3.9.13"
  }
 },
 "nbformat": 4,
 "nbformat_minor": 5
}
